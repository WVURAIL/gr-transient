{
 "cells": [
  {
   "cell_type": "markdown",
   "metadata": {},
   "source": [
    "# FRB Pipeline Simulation"
   ]
  },
  {
   "cell_type": "code",
   "execution_count": null,
   "metadata": {},
   "outputs": [],
   "source": [
    "%matplotlib notebook\n",
    "import numpy as np\n",
    "from matplotlib.pyplot import *"
   ]
  },
  {
   "cell_type": "code",
   "execution_count": null,
   "metadata": {},
   "outputs": [],
   "source": [
    "\n",
    "def axis_labels(x, y, z):\n",
    "    xlab = xlabel(x)\n",
    "    ylab = ylabel(y)\n",
    "    titles = title(z)\n",
    "    legends = legend\n",
    "    return xlab, ylab, titles, legends"
   ]
  },
  {
   "cell_type": "markdown",
   "metadata": {},
   "source": [
    "The following steps will simulate the anologue process that occurs before the data is downsampled. Any pulsar will work for this, however, the pulsar being simulated will be made using the paramters below."
   ]
  },
  {
   "cell_type": "code",
   "execution_count": null,
   "metadata": {},
   "outputs": [],
   "source": [
    "#Define the parameters for the noise that will be mixed with the pulse\n",
    "Cf = 1400e6 #This is the centre frequency in MHz, and where we will be viewing from\n",
    "Bw = 10e6 #This is the bandwidth that we are observing with our telescope\n",
    "sample_rate = 12e9 # Frequency running simulation at.\n",
    "period = .005 #seconds "
   ]
  },
  {
   "cell_type": "markdown",
   "metadata": {},
   "source": [
    "With a period of 5ms, we will use a time frame with this length to simulate one pulse. The bins in this simulation is determined by the sampling rate, which can be changed above. The current value is at such that 12GB ram computerss will just be able to simulate. The higher value the sampling rate is given, the more accurate the simulation becomes, but at the expense of what the computer is able to process."
   ]
  },
  {
   "cell_type": "code",
   "execution_count": null,
   "metadata": {},
   "outputs": [],
   "source": [
    "#Define the timescale in which we will be observing\n",
    "t = np.linspace(-.0025,.0025, period*sample_rate) #Decreasing the period for this will decrease the samples obtained"
   ]
  },
  {
   "cell_type": "markdown",
   "metadata": {},
   "source": [
    "To create the pulsar, first noise is simulated using a normal distribution of values. This distribution is made such that the standard deviation is 1, and is centred around 0. "
   ]
  },
  {
   "cell_type": "code",
   "execution_count": null,
   "metadata": {},
   "outputs": [],
   "source": [
    "#Create the Gaussian noise profile for the pulsar\n",
    "length = len(t)     #This defines the number of timesamples we have, ie the number of samples collected\n",
    "mu = 0              #This indicates an offset of 0, meaning the signal is perfetly centred about 0\n",
    "sigma = 1           #This idicates an std of 1\n",
    "gnoise = np.random.normal(mu, sigma, length) #This is the GAussian noise for the signal\n",
    "pw = .0004 #seconds\n",
    "print(length)"
   ]
  },
  {
   "cell_type": "markdown",
   "metadata": {},
   "source": [
    "This noise is then multiplied to a gaussian that has a standard deviation equal to that of the desired pulse width.The gaussian was made using the equation \\begin{equation} e^{\\frac{-1}{2}(\\frac{t}{pw})^2} \\end{equation}."
   ]
  },
  {
   "cell_type": "code",
   "execution_count": null,
   "metadata": {},
   "outputs": [],
   "source": [
    "gnoise = np.exp(.5*-(t/pw)**2)*gnoise #Define the pulse of the signal. The gaussian profile takes an input of the "
   ]
  },
  {
   "cell_type": "markdown",
   "metadata": {},
   "source": [
    "Observe now that the resulting signal looks like a Gausian distribution"
   ]
  },
  {
   "cell_type": "code",
   "execution_count": null,
   "metadata": {},
   "outputs": [],
   "source": [
    "#Now plot the signal, and observe the pulse shape. To see the pulse without destroying the computer, \n",
    "#plot every 10000th point\n",
    "figure()\n",
    "plot(np.linspace(0,.005, period*sample_rate)[0::10000],gnoise[0::10000], ls='none', marker='.')\n",
    "axis_labels('time(s)', 'value(unitless)', 'Gaussian noise pulse')"
   ]
  },
  {
   "cell_type": "markdown",
   "metadata": {},
   "source": [
    "Now, to create the pulsar, we take the Fourier transform of the Gaussian, so that we may eliminate all but one frequency of the Gaussian"
   ]
  },
  {
   "cell_type": "code",
   "execution_count": null,
   "metadata": {},
   "outputs": [],
   "source": [
    "#Now take the fourier transform of the pulse to get it in frequency space\n",
    "fourier_pulse = np.fft.fft(gnoise)"
   ]
  },
  {
   "cell_type": "code",
   "execution_count": null,
   "metadata": {},
   "outputs": [],
   "source": [
    "#The fourier transformed data should look like broadband noise, so define the axes properly before plotting\n",
    "broad_freq = np.fft.fftfreq(length, 1/(sample_rate/1e6)) #This gives the signal in MHz, (specifically from the 1e6)"
   ]
  },
  {
   "cell_type": "code",
   "execution_count": null,
   "metadata": {},
   "outputs": [],
   "source": [
    "broad_freq"
   ]
  },
  {
   "cell_type": "code",
   "execution_count": null,
   "metadata": {},
   "outputs": [],
   "source": [
    "figure()\n",
    "plot(broad_freq[::1000], np.abs(fourier_pulse[::1000])) #Square the abs value to get better view\n",
    "axis_labels(\"frequency(MHz)\", 'amplitude(unitless)', 'Fourier transformed  gaussian pulse')"
   ]
  },
  {
   "cell_type": "code",
   "execution_count": null,
   "metadata": {},
   "outputs": [],
   "source": [
    "\n"
   ]
  },
  {
   "cell_type": "code",
   "execution_count": null,
   "metadata": {},
   "outputs": [],
   "source": [
    "#Now we modify the noise, so that there are only +- of the same frequency in it of it. This is the pulsar!\n",
    "#Everything outside the two reference frequencies is turned to zero\n",
    "highpass_freq = (Cf-Bw/2.0) #This sets the centre frequency to 0, with a bandwidth deifned above\n",
    "highpass_index1 = int(highpass_freq/(sample_rate/2)*length/2) #This finds the point in the array with the value\n",
    "highpass_index2 = length - highpass_index1 #Same but for different point\n",
    "fourier_pulse[:highpass_index1] = 0 #This is turning everything outside the two points to zero\n",
    "fourier_pulse[highpass_index2:] = 0 #Same as above\n",
    "\n",
    "#Everything outside of the two frequencies is turned to 0\n",
    "nyquest_index = int(length/2) #This value is determined by the nyquist sampling theorem(helps figure out where the chinkc are)\n",
    "#The following is the same as above, but now for outside the frequency values\n",
    "lowpass_freq = Cf+Bw/2.0 \n",
    "lowpass_index1 = int(lowpass_freq/(sample_rate/2)*length/2)\n",
    "lowpass_index2 = length - lowpass_index1\n",
    "fourier_pulse[lowpass_index1:nyquest_index] = 0\n",
    "fourier_pulse[nyquest_index:lowpass_index2] = 0"
   ]
  },
  {
   "cell_type": "code",
   "execution_count": null,
   "metadata": {},
   "outputs": [],
   "source": [
    "figure()\n",
    "plot(broad_freq[::1000], np.abs(fourier_pulse[::1000]))\n",
    "axis_labels(\"frequency(MHz)\", 'amplitude(unitless)', 'Newly created pulsar')"
   ]
  },
  {
   "cell_type": "code",
   "execution_count": null,
   "metadata": {
    "scrolled": true
   },
   "outputs": [],
   "source": [
    "#Now turn the pulsar back into time space from frequency space\n",
    "blimited_pulse = np.fft.ifft(fourier_pulse)\n"
   ]
  },
  {
   "cell_type": "code",
   "execution_count": null,
   "metadata": {},
   "outputs": [],
   "source": [
    "#If this pulse is plotted again, it sill looks like the same as before\n",
    "figure()\n",
    "plot(np.linspace(0,.005, period*sample_rate)[0::10000], blimited_pulse[::10000])\n",
    "axis_labels('time(s)', 'value(unitless)', 'Pulsar wave packet')"
   ]
  },
  {
   "cell_type": "code",
   "execution_count": null,
   "metadata": {},
   "outputs": [],
   "source": []
  },
  {
   "cell_type": "code",
   "execution_count": null,
   "metadata": {},
   "outputs": [],
   "source": [
    "#Now need to create the mixing signal:\n",
    "mixing_signal = np.exp(-2.00j*np.pi* Cf/sample_rate *np.arange(length)) #With this we create the mixing signal using the euler equation for the signal\n",
    "\n",
    "#We assume the pulse is always centred around the same point, so the only part of the signal equaiton needed is \n",
    "#omega*t. "
   ]
  },
  {
   "cell_type": "code",
   "execution_count": null,
   "metadata": {},
   "outputs": [],
   "source": [
    "\n",
    "#Mix and sample down the pusar signal so that we can have an I Q data set for the bandwidth\n",
    "mixed_down_s = blimited_pulse*mixing_signal\n",
    "N_cutoff = int(Bw/2/sample_rate*length) #This is from the lowpass fileter definition\n",
    "fmixed = np.fft.fft(mixed_down_s) #This creates the fourier transform of the mixed signal\n",
    "fmixed[N_cutoff:-N_cutoff] = 0.0 # this makes it so that the imaginary magnitudes are comparable to the reals. This is\n",
    "                                    #also our filter\n",
    "filtered_mixed_down_s = np.fft.ifft(fmixed) #This brings the fourier space pulse back into a packet\n",
    "#Downsample so that is...\n",
    "downsampled_filtered_mixed_down_s = filtered_mixed_down_s[::int(sample_rate/(Bw))]\n",
    "#complex sampled at 10MHz instead of 12GHz\n",
    "#This gives us 50000 indicies instead of 60000000"
   ]
  },
  {
   "cell_type": "code",
   "execution_count": null,
   "metadata": {
    "scrolled": false
   },
   "outputs": [],
   "source": [
    "#The simulation can be run from this point\n",
    "\n",
    "# Use gaussian noise, filter with same time width.\n",
    "#Now plot the signal, and observe that the pulse shape is the same, but now using smaller increments between samples\n",
    "figure()\n",
    "plot(np.linspace(0,.005, len(downsampled_filtered_mixed_down_s))[0::100], downsampled_filtered_mixed_down_s[::100].real)\n",
    "plot(np.linspace(0,.005, len(downsampled_filtered_mixed_down_s))[0::100], downsampled_filtered_mixed_down_s[::100].imag)\n",
    "axis_labels('Time(s)', 'Amplitude', 'Downsampled Pulsar')"
   ]
  },
  {
   "cell_type": "code",
   "execution_count": null,
   "metadata": {},
   "outputs": [],
   "source": [
    "#We repeat the pulse to get about 0.15 seconds of data\n",
    "downsampled_filtered_mixed_down_s_repeated = np.tile(downsampled_filtered_mixed_down_s, 30)"
   ]
  },
  {
   "cell_type": "code",
   "execution_count": null,
   "metadata": {},
   "outputs": [],
   "source": [
    "#This is where the pulsar is dispersed\n",
    "#We do a convolution in fourier space, which must be long wrt the dispersion delay time\n",
    "dis_length = len(downsampled_filtered_mixed_down_s_repeated) #This gives us the number of time samples of the \n",
    "                                                             #downsampled repeated pulse\n",
    "freq_step = np.linspace(-Bw/2, Bw/2, dis_length) #This is the new frequency step for the pulse\n",
    "DM = 600 #This is the dispersion measure and it is completely arbitrary\n",
    "#Create the signal to be convolved with the data. This signal is the pulsar\n",
    "H = np.exp(2j*np.pi*4.15e15*DM*freq_step**2/((Cf+freq_step)*Cf**2)) #Where the part that looks similar to the delay \n",
    "#time is the 'time' portion of the equation"
   ]
  },
  {
   "cell_type": "code",
   "execution_count": null,
   "metadata": {},
   "outputs": [],
   "source": [
    "#Check how long the dispersion is\n",
    "delay_time = 4.15e15 * (1/(Cf-Bw/2)**2 - 1/(Cf+Bw/2)**2) * DM\n",
    "#The delay time must be significantly less than the dispersion of the data\n",
    "print(delay_time) #This time must be less thah H"
   ]
  },
  {
   "cell_type": "code",
   "execution_count": null,
   "metadata": {},
   "outputs": [],
   "source": [
    "dispersed_downsampled_filtered_mixed_sig = np.fft.ifft(np.fft.fft(downsampled_filtered_mixed_down_s_repeated)*np.fft.fftshift(H))\n",
    "#The pulse signal and the dispersion of the pulse were convolved to give a dispersed pulse"
   ]
  },
  {
   "cell_type": "code",
   "execution_count": null,
   "metadata": {},
   "outputs": [],
   "source": [
    "#Plotting the convolved signal...\n",
    "figure()\n",
    "plot(np.linspace(0,.15, dis_length)[::100], dispersed_downsampled_filtered_mixed_sig[::100].real)\n",
    "plot(np.linspace(0,.15, dis_length)[::100], dispersed_downsampled_filtered_mixed_sig[::100].imag)\n",
    "axis_labels('time(s)', 'Amplitude', 'Dispersed downsampled mixed pulsar')"
   ]
  },
  {
   "cell_type": "code",
   "execution_count": null,
   "metadata": {},
   "outputs": [],
   "source": [
    "#now that we have the pulse, we proceed to take the fourier transform of it, to graphically show \n",
    "#that we have created what we expected. This is step two in the flowgraph on Gnu\n",
    "        "
   ]
  },
  {
   "cell_type": "code",
   "execution_count": null,
   "metadata": {},
   "outputs": [],
   "source": [
    "#We want to show how the amplitude of the pulse changes with respect to frequency and time. Currently, we can only \n",
    "#show either or"
   ]
  },
  {
   "cell_type": "code",
   "execution_count": null,
   "metadata": {},
   "outputs": [],
   "source": [
    "#We want to intergrate to 0.1ms since this is sgnifiantly less than 5ms\n",
    "nfreq = 400                                                #This is an educated, but arbitrary choice for the parameter\n",
    "print(len(dispersed_downsampled_filtered_mixed_sig)/nfreq) #This gives us the frequency channels we are using"
   ]
  },
  {
   "cell_type": "code",
   "execution_count": null,
   "metadata": {},
   "outputs": [],
   "source": [
    "#We want a 10Msps, since this is the bandwidth\n",
    "times = 1/10e6"
   ]
  },
  {
   "cell_type": "code",
   "execution_count": null,
   "metadata": {},
   "outputs": [],
   "source": [
    "len(dispersed_downsampled_filtered_mixed_sig)"
   ]
  },
  {
   "cell_type": "code",
   "execution_count": null,
   "metadata": {},
   "outputs": [],
   "source": [
    "\n",
    "#To check that this number of frequencies, integrations, and sampling rate work\n",
    "#integrate 5 samples\n",
    "step = 400 #This comes from the number of frequency channels desired\n",
    "integration_size = int(2e-4/(times)/nfreq) #This comes from the 0.2ms integration that we desire. It is .2 bc .1 was too small\n",
    "n_time = int(len(dispersed_downsampled_filtered_mixed_sig)/step/integration_size) #This finds the number of\n",
    "                                                            #timesteps\n",
    "rec_spect = np.zeros(((n_time), step), dtype=complex) #This the is the recieved 3d plot of frequency vs time\n",
    "for i in range(n_time): #This is the number of 'rows'\n",
    "    for j in range(integration_size):\n",
    "        spect = np.fft.fft(dispersed_downsampled_filtered_mixed_sig[(integration_size*i+j)*step : (integration_size*i+j+1)*step])\n",
    "        #This is an easy way to get the row size that we desire\n",
    "        rec_spect[i] += spect*spect.conjugate() #The first timestep of the frequencies needs to be multiplied by its conjugate\n",
    "        #The spetra are added together because we are 'folding' the amplitudes together. If we don't, then there appears \n",
    "        #a jump in the data.\n",
    "\n",
    "        \n",
    "        \n",
    "    "
   ]
  },
  {
   "cell_type": "code",
   "execution_count": null,
   "metadata": {},
   "outputs": [],
   "source": [
    "n_frequencies = np.fft.fftfreq(n_time, 1/(10e6/1e6)) #This is the number of frequency channles. This will lable the \n",
    "                                                     #the x axis\n",
    "pulse_freqs = np.fft.fftshift(n_frequencies)+Cf/1e6 #This will place the centre frequency of the plot at 1400MHz\n",
    "dispersed = np.flip(np.transpose(np.fft.fftshift(abs(rec_spect))), 0)#The array of the data must be flipped to match \n",
    "                                    #the units in the plot,and it must be transposed so that time is on the x axis."
   ]
  },
  {
   "cell_type": "code",
   "execution_count": null,
   "metadata": {},
   "outputs": [],
   "source": [
    "dispersed.shape"
   ]
  },
  {
   "cell_type": "code",
   "execution_count": null,
   "metadata": {},
   "outputs": [],
   "source": [
    "#This is the graph of the pulsar, where we can see that it is dispersed\n",
    "figure()\n",
    "imshow(dispersed, extent=[np.amin(np.linspace(0,.15, dis_length)),\\\n",
    "                            np.amax(np.linspace(0,.15, dis_length)),\\\n",
    "                            np.amin(pulse_freqs),\\\n",
    "                            np.amax(pulse_freqs)],\\\n",
    "                              aspect='auto')\n",
    "axis_labels('time(s)','Frequency (MHz)',  'Dispersed Pulsar')\n",
    "colorbar(label = 'power')\n",
    "\n",
    "#Congrats!, we now have a dispersed pulsar\n"
   ]
  },
  {
   "cell_type": "code",
   "execution_count": null,
   "metadata": {},
   "outputs": [],
   "source": [
    "DMs = np.arange(400,800) #Assume that we do not know the DM for the pulsar. We must then Guess a range of DM\n",
    "\n",
    "t1s = (np.linspace(0,.15, dis_length/step/integration_size))#Define time step that the pulse arrives at\n",
    "time_change = np.zeros((len(DMs), len(t1s))) #This is the time after the first frequency which the second frequncy arrives\n",
    "for i in range(len(DMs)):\n",
    "    change = t1s+4.15e6*DMs[i]*( 1/(np.min(pulse_freqs))**2 - 1/( pulse_freqs )**2) #This is the definition for the time that the second freq arrives\n",
    "    time_change[i,:] = change[:]\n"
   ]
  },
  {
   "cell_type": "code",
   "execution_count": null,
   "metadata": {},
   "outputs": [],
   "source": []
  },
  {
   "cell_type": "code",
   "execution_count": null,
   "metadata": {},
   "outputs": [],
   "source": []
  },
  {
   "cell_type": "code",
   "execution_count": null,
   "metadata": {},
   "outputs": [],
   "source": [
    "dedisperse = np.zeros((len(DMs),dispersed.shape[0], dispersed.shape[1]))  #The dedispersed pulse will have the same shape as the dispersed one\n",
    "for i in range(len(DMs)):\n",
    "    dedis = dispersed*0\n",
    "    for j in range(step):\n",
    "        de = np.roll(dispersed[j,:],-int(time_change[i,j]*(n_time/step*integration_size))) #np.roll shifts \n",
    "                #the data over after the last position and reintroduces it to the first position\n",
    "        dedis[j,:] = de[:]\n",
    "    dedisperse[i,:,:] = dedis"
   ]
  },
  {
   "cell_type": "code",
   "execution_count": null,
   "metadata": {},
   "outputs": [],
   "source": [
    "figure()\n",
    "imshow(dedisperse[200], extent=[np.amin(np.linspace(0,.15, dis_length)),\\\n",
    "                            np.amax(np.linspace(0,.15, dis_length)),\\\n",
    "                            np.amin(pulse_freqs),\\\n",
    "                            np.amax(pulse_freqs)],\\\n",
    "                              aspect='auto')\n",
    "axis_labels('time(s)','Frequency (MHz)',  'Dedispersed Pulsar (DM=600)')\n",
    "colorbar(label = 'power') #This shows the effec the dedispersion had on the 200th DM\n",
    "savefig(\"/home/andy/Pictures/Dedispersed_pulsar.png\")"
   ]
  },
  {
   "cell_type": "code",
   "execution_count": null,
   "metadata": {},
   "outputs": [],
   "source": [
    "DM_measure = np.sum(dedisperse, axis = 1)"
   ]
  },
  {
   "cell_type": "code",
   "execution_count": null,
   "metadata": {
    "scrolled": false
   },
   "outputs": [],
   "source": [
    "figure()\n",
    "imshow((abs(DM_measure)), extent=[np.amin(np.linspace(0,.15, dis_length)),\\\n",
    "                            np.amax(np.linspace(0,.15, dis_length)),\\\n",
    "                            np.amin(DMs),\\\n",
    "                            np.amax(DMs)],\\\n",
    "                              aspect='auto')\n",
    "axis_labels('time(s)','Dispersion Measure',  'Dispersion Measure vs Time of Pulsar (DM=600)')\n",
    "colorbar(label = 'power') #This is the plot of DM vs time\n",
    "savefig(\"/home/andy/Pictures/dispersion_measure_vs_time_DM=600.png\")"
   ]
  },
  {
   "cell_type": "code",
   "execution_count": null,
   "metadata": {},
   "outputs": [],
   "source": [
    "summed_pulse = np.sum(dedisperse, axis=0)"
   ]
  },
  {
   "cell_type": "code",
   "execution_count": null,
   "metadata": {},
   "outputs": [],
   "source": [
    "figure()\n",
    "plot(summed_pulse)"
   ]
  },
  {
   "cell_type": "code",
   "execution_count": null,
   "metadata": {
    "scrolled": false
   },
   "outputs": [],
   "source": []
  },
  {
   "cell_type": "code",
   "execution_count": null,
   "metadata": {},
   "outputs": [],
   "source": []
  },
  {
   "cell_type": "code",
   "execution_count": null,
   "metadata": {},
   "outputs": [],
   "source": []
  },
  {
   "cell_type": "code",
   "execution_count": null,
   "metadata": {},
   "outputs": [],
   "source": [
    ".15/25\n"
   ]
  },
  {
   "cell_type": "code",
   "execution_count": null,
   "metadata": {},
   "outputs": [],
   "source": []
  },
  {
   "cell_type": "code",
   "execution_count": null,
   "metadata": {
    "scrolled": false
   },
   "outputs": [],
   "source": []
  },
  {
   "cell_type": "code",
   "execution_count": null,
   "metadata": {},
   "outputs": [],
   "source": []
  }
 ],
 "metadata": {
  "kernelspec": {
   "display_name": "Python 3",
   "language": "python",
   "name": "python3"
  },
  "language_info": {
   "codemirror_mode": {
    "name": "ipython",
    "version": 3
   },
   "file_extension": ".py",
   "mimetype": "text/x-python",
   "name": "python",
   "nbconvert_exporter": "python",
   "pygments_lexer": "ipython3",
   "version": "3.6.5"
  }
 },
 "nbformat": 4,
 "nbformat_minor": 2
}
